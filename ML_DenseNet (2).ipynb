{
  "cells": [
    {
      "cell_type": "code",
      "execution_count": null,
      "id": "a_PwxCbZf7HA",
      "metadata": {
        "id": "a_PwxCbZf7HA"
      },
      "outputs": [],
      "source": [
        "from google.colab import drive"
      ]
    },
    {
      "cell_type": "code",
      "execution_count": null,
      "id": "zzG-EfscgS1c",
      "metadata": {
        "colab": {
          "base_uri": "https://localhost:8080/"
        },
        "id": "zzG-EfscgS1c",
        "outputId": "6204cbbb-7733-45e1-fd3d-a6a5a7ead64b"
      },
      "outputs": [
        {
          "output_type": "stream",
          "name": "stdout",
          "text": [
            "Drive already mounted at /content/drive; to attempt to forcibly remount, call drive.mount(\"/content/drive\", force_remount=True).\n"
          ]
        }
      ],
      "source": [
        "drive.mount('/content/drive')"
      ]
    },
    {
      "cell_type": "code",
      "execution_count": null,
      "id": "c11f4449-584f-43be-9794-b3b2808446da",
      "metadata": {
        "colab": {
          "base_uri": "https://localhost:8080/"
        },
        "id": "c11f4449-584f-43be-9794-b3b2808446da",
        "outputId": "5a21f123-42d5-4dba-f9e9-faac04be4c92"
      },
      "outputs": [
        {
          "name": "stdout",
          "output_type": "stream",
          "text": [
            "Collecting pytorch.ignite\n",
            "  Downloading pytorch_ignite-0.5.0.post2-py3-none-any.whl (296 kB)\n",
            "\u001b[?25l     \u001b[90m━━━━━━━━━━━━━━━━━━━━━━━━━━━━━━━━━━━━━━━━\u001b[0m \u001b[32m0.0/296.7 kB\u001b[0m \u001b[31m?\u001b[0m eta \u001b[36m-:--:--\u001b[0m\r\u001b[2K     \u001b[91m━━━━━━━━━━━━━━━━━━━━━━━━━━━━━━━\u001b[0m\u001b[91m╸\u001b[0m\u001b[90m━━━━━━━━\u001b[0m \u001b[32m235.5/296.7 kB\u001b[0m \u001b[31m7.1 MB/s\u001b[0m eta \u001b[36m0:00:01\u001b[0m\r\u001b[2K     \u001b[90m━━━━━━━━━━━━━━━━━━━━━━━━━━━━━━━━━━━━━━━━\u001b[0m \u001b[32m296.7/296.7 kB\u001b[0m \u001b[31m6.5 MB/s\u001b[0m eta \u001b[36m0:00:00\u001b[0m\n",
            "\u001b[?25hRequirement already satisfied: torch<3,>=1.3 in /usr/local/lib/python3.10/dist-packages (from pytorch.ignite) (2.2.1+cu121)\n",
            "Requirement already satisfied: packaging in /usr/local/lib/python3.10/dist-packages (from pytorch.ignite) (24.0)\n",
            "Requirement already satisfied: filelock in /usr/local/lib/python3.10/dist-packages (from torch<3,>=1.3->pytorch.ignite) (3.13.4)\n",
            "Requirement already satisfied: typing-extensions>=4.8.0 in /usr/local/lib/python3.10/dist-packages (from torch<3,>=1.3->pytorch.ignite) (4.11.0)\n",
            "Requirement already satisfied: sympy in /usr/local/lib/python3.10/dist-packages (from torch<3,>=1.3->pytorch.ignite) (1.12)\n",
            "Requirement already satisfied: networkx in /usr/local/lib/python3.10/dist-packages (from torch<3,>=1.3->pytorch.ignite) (3.3)\n",
            "Requirement already satisfied: jinja2 in /usr/local/lib/python3.10/dist-packages (from torch<3,>=1.3->pytorch.ignite) (3.1.3)\n",
            "Requirement already satisfied: fsspec in /usr/local/lib/python3.10/dist-packages (from torch<3,>=1.3->pytorch.ignite) (2023.6.0)\n",
            "Collecting nvidia-cuda-nvrtc-cu12==12.1.105 (from torch<3,>=1.3->pytorch.ignite)\n",
            "  Using cached nvidia_cuda_nvrtc_cu12-12.1.105-py3-none-manylinux1_x86_64.whl (23.7 MB)\n",
            "Collecting nvidia-cuda-runtime-cu12==12.1.105 (from torch<3,>=1.3->pytorch.ignite)\n",
            "  Using cached nvidia_cuda_runtime_cu12-12.1.105-py3-none-manylinux1_x86_64.whl (823 kB)\n",
            "Collecting nvidia-cuda-cupti-cu12==12.1.105 (from torch<3,>=1.3->pytorch.ignite)\n",
            "  Using cached nvidia_cuda_cupti_cu12-12.1.105-py3-none-manylinux1_x86_64.whl (14.1 MB)\n",
            "Collecting nvidia-cudnn-cu12==8.9.2.26 (from torch<3,>=1.3->pytorch.ignite)\n",
            "  Using cached nvidia_cudnn_cu12-8.9.2.26-py3-none-manylinux1_x86_64.whl (731.7 MB)\n",
            "Collecting nvidia-cublas-cu12==12.1.3.1 (from torch<3,>=1.3->pytorch.ignite)\n",
            "  Using cached nvidia_cublas_cu12-12.1.3.1-py3-none-manylinux1_x86_64.whl (410.6 MB)\n",
            "Collecting nvidia-cufft-cu12==11.0.2.54 (from torch<3,>=1.3->pytorch.ignite)\n",
            "  Using cached nvidia_cufft_cu12-11.0.2.54-py3-none-manylinux1_x86_64.whl (121.6 MB)\n",
            "Collecting nvidia-curand-cu12==10.3.2.106 (from torch<3,>=1.3->pytorch.ignite)\n",
            "  Using cached nvidia_curand_cu12-10.3.2.106-py3-none-manylinux1_x86_64.whl (56.5 MB)\n",
            "Collecting nvidia-cusolver-cu12==11.4.5.107 (from torch<3,>=1.3->pytorch.ignite)\n",
            "  Using cached nvidia_cusolver_cu12-11.4.5.107-py3-none-manylinux1_x86_64.whl (124.2 MB)\n",
            "Collecting nvidia-cusparse-cu12==12.1.0.106 (from torch<3,>=1.3->pytorch.ignite)\n",
            "  Using cached nvidia_cusparse_cu12-12.1.0.106-py3-none-manylinux1_x86_64.whl (196.0 MB)\n",
            "Collecting nvidia-nccl-cu12==2.19.3 (from torch<3,>=1.3->pytorch.ignite)\n",
            "  Using cached nvidia_nccl_cu12-2.19.3-py3-none-manylinux1_x86_64.whl (166.0 MB)\n",
            "Collecting nvidia-nvtx-cu12==12.1.105 (from torch<3,>=1.3->pytorch.ignite)\n",
            "  Using cached nvidia_nvtx_cu12-12.1.105-py3-none-manylinux1_x86_64.whl (99 kB)\n",
            "Requirement already satisfied: triton==2.2.0 in /usr/local/lib/python3.10/dist-packages (from torch<3,>=1.3->pytorch.ignite) (2.2.0)\n",
            "Collecting nvidia-nvjitlink-cu12 (from nvidia-cusolver-cu12==11.4.5.107->torch<3,>=1.3->pytorch.ignite)\n",
            "  Using cached nvidia_nvjitlink_cu12-12.4.127-py3-none-manylinux2014_x86_64.whl (21.1 MB)\n",
            "Requirement already satisfied: MarkupSafe>=2.0 in /usr/local/lib/python3.10/dist-packages (from jinja2->torch<3,>=1.3->pytorch.ignite) (2.1.5)\n",
            "Requirement already satisfied: mpmath>=0.19 in /usr/local/lib/python3.10/dist-packages (from sympy->torch<3,>=1.3->pytorch.ignite) (1.3.0)\n",
            "Installing collected packages: nvidia-nvtx-cu12, nvidia-nvjitlink-cu12, nvidia-nccl-cu12, nvidia-curand-cu12, nvidia-cufft-cu12, nvidia-cuda-runtime-cu12, nvidia-cuda-nvrtc-cu12, nvidia-cuda-cupti-cu12, nvidia-cublas-cu12, nvidia-cusparse-cu12, nvidia-cudnn-cu12, nvidia-cusolver-cu12, pytorch.ignite\n",
            "Successfully installed nvidia-cublas-cu12-12.1.3.1 nvidia-cuda-cupti-cu12-12.1.105 nvidia-cuda-nvrtc-cu12-12.1.105 nvidia-cuda-runtime-cu12-12.1.105 nvidia-cudnn-cu12-8.9.2.26 nvidia-cufft-cu12-11.0.2.54 nvidia-curand-cu12-10.3.2.106 nvidia-cusolver-cu12-11.4.5.107 nvidia-cusparse-cu12-12.1.0.106 nvidia-nccl-cu12-2.19.3 nvidia-nvjitlink-cu12-12.4.127 nvidia-nvtx-cu12-12.1.105 pytorch.ignite-0.5.0.post2\n"
          ]
        }
      ],
      "source": [
        "#imports\n",
        "!pip install pytorch.ignite\n",
        "import torch\n",
        "import torch.nn as nn\n",
        "import torch.optim as optim\n",
        "from torch.utils.data import DataLoader\n",
        "from torchvision import datasets, transforms, models\n",
        "import os\n",
        "from ignite.engine import Events, Engine, create_supervised_trainer, create_supervised_evaluator\n",
        "from ignite.metrics import Accuracy, Loss\n",
        "from ignite.handlers import ModelCheckpoint, EarlyStopping\n",
        "import warnings\n",
        "import matplotlib.pyplot as plt\n",
        "warnings.filterwarnings(\"ignore\")"
      ]
    },
    {
      "cell_type": "code",
      "execution_count": null,
      "id": "b221c86a-9395-432b-bf49-52b864f4fa2c",
      "metadata": {
        "id": "b221c86a-9395-432b-bf49-52b864f4fa2c"
      },
      "outputs": [],
      "source": [
        "#preprocessing transformations\n",
        "data_transforms = {\n",
        "    'train': transforms.Compose([\n",
        "        transforms.RandomResizedCrop(224),\n",
        "        transforms.RandomHorizontalFlip(),\n",
        "        transforms.ToTensor(),\n",
        "        transforms.Normalize(mean=[0.485, 0.456, 0.406], std=[0.229, 0.224, 0.225])\n",
        "    ]),\n",
        "    'test': transforms.Compose([\n",
        "        transforms.Resize(256),\n",
        "        transforms.CenterCrop(224),\n",
        "        transforms.ToTensor(),\n",
        "        transforms.Normalize(mean=[0.485, 0.456, 0.406], std=[0.229, 0.224, 0.225])\n",
        "    ]),\n",
        "}"
      ]
    },
    {
      "cell_type": "code",
      "execution_count": null,
      "id": "8c009b7a-e9b9-4f20-a8d1-b6bddc5e1e95",
      "metadata": {
        "id": "8c009b7a-e9b9-4f20-a8d1-b6bddc5e1e95"
      },
      "outputs": [],
      "source": [
        "data_path = \"/content/drive/MyDrive/dataset2\"\n",
        "data= {x: datasets.ImageFolder(os.path.join(data_path,x), data_transforms[x]) for x in ['train', 'test']}"
      ]
    },
    {
      "cell_type": "code",
      "execution_count": null,
      "id": "6c6d5a16-4229-46bb-9804-1ce86df3744a",
      "metadata": {
        "colab": {
          "base_uri": "https://localhost:8080/"
        },
        "id": "6c6d5a16-4229-46bb-9804-1ce86df3744a",
        "outputId": "fca344c6-c822-4875-ab85-ec6713bbb719"
      },
      "outputs": [
        {
          "output_type": "stream",
          "name": "stdout",
          "text": [
            "cuda\n"
          ]
        }
      ],
      "source": [
        "# Create data loaders\n",
        "data_loaders = {x: DataLoader(data[x], batch_size=60, shuffle=True) for x in ['train', 'test']}\n",
        "data_size= {x: len(data[x]) for x in ['train', 'test']}\n",
        "names= data['train'].classes\n",
        "names\n",
        "\n",
        "# Define the model\n",
        "model = models.densenet121(pretrained=True)\n",
        "in_input = model.classifier.in_features\n",
        "model.classifier = nn.Linear(in_input, 2)\n",
        "\n",
        "# Define loss function and optimizer\n",
        "criterion = nn.CrossEntropyLoss()\n",
        "optimizer = optim.Adam(model.parameters(), lr=0.001,  weight_decay=1e-5)\n",
        "\n",
        "# Move model to GPU\n",
        "device = torch.device(\"cuda\" if torch.cuda.is_available() else \"cpu\")\n",
        "model.to(device)\n",
        "print(device)"
      ]
    },
    {
      "cell_type": "code",
      "execution_count": null,
      "id": "d5593d38-00a5-4100-9195-4de41c9e3489",
      "metadata": {
        "id": "d5593d38-00a5-4100-9195-4de41c9e3489"
      },
      "outputs": [],
      "source": [
        "# Create Ignite trainer\n",
        "trainer = create_supervised_trainer(model, optimizer, criterion, device=device)"
      ]
    },
    {
      "cell_type": "code",
      "execution_count": null,
      "id": "4394f3e9-049c-4dc6-b472-79d83bd3ee75",
      "metadata": {
        "colab": {
          "base_uri": "https://localhost:8080/"
        },
        "id": "4394f3e9-049c-4dc6-b472-79d83bd3ee75",
        "outputId": "e1363e51-3cdf-4925-b5df-d2c649ff82ff"
      },
      "outputs": [
        {
          "output_type": "execute_result",
          "data": {
            "text/plain": [
              "<ignite.engine.events.RemovableEventHandle at 0x7c6e76891c90>"
            ]
          },
          "metadata": {},
          "execution_count": 25
        }
      ],
      "source": [
        "metrics = {\n",
        "    'accuracy': Accuracy(),\n",
        "    'loss': Loss(criterion)\n",
        "}\n",
        "evaluator_train = create_supervised_evaluator(model, metrics=metrics, device=device)\n",
        "evaluator_test = create_supervised_evaluator(model, metrics=metrics, device=device)\n",
        "\n",
        "def clear_run_stack(trainer):\n",
        "    trainer.state.iteration = 0\n",
        "    trainer.state.epoch = 0\n",
        "    trainer.state.output = None\n",
        "    trainer.state.batch = None\n",
        "\n",
        "trainer.add_event_handler(Events.STARTED, clear_run_stack)\n",
        "\n",
        "def evaluate_and_check_stopping(engine):\n",
        "    evaluator_test.run(data_loaders['test'])\n",
        "\n",
        "early_stopping = EarlyStopping(patience=5, score_function=lambda eng: -eng.state.metrics['loss'], trainer=trainer)\n",
        "evaluator_test.add_event_handler(Events.COMPLETED, lambda eng: early_stopping(eng))\n",
        "\n",
        "trainer.add_event_handler(Events.EPOCH_COMPLETED, evaluate_and_check_stopping)"
      ]
    },
    {
      "cell_type": "code",
      "execution_count": null,
      "id": "6f12364d-e384-45d3-833a-1b7f4d331943",
      "metadata": {
        "id": "6f12364d-e384-45d3-833a-1b7f4d331943"
      },
      "outputs": [],
      "source": [
        "# Training the model\n",
        "train_loss_values = []\n",
        "test_loss_values = []\n",
        "train_accuracy_values = []\n",
        "test_accuracy_values = []\n",
        "\n",
        "@trainer.on(Events.EPOCH_COMPLETED)\n",
        "def log_training_results(trainer):\n",
        "    evaluator_train.run(data_loaders['train'])\n",
        "    metrics = evaluator_train.state.metrics\n",
        "    accuracy = metrics['accuracy']\n",
        "    loss = metrics['loss']\n",
        "    train_accuracy_values.append(accuracy)\n",
        "    train_loss_values.append(loss)\n",
        "    print(f\"Training Results - Epoch: {trainer.state.epoch}, Accuracy: {accuracy:.2f}, Loss: {loss:.4f}\")\n",
        "\n",
        "@trainer.on(Events.EPOCH_COMPLETED)\n",
        "def log_test_results(trainer):\n",
        "    evaluator_test.run(data_loaders['test'])\n",
        "    metrics = evaluator_test.state.metrics\n",
        "    accuracy = metrics['accuracy']\n",
        "    loss = metrics['loss']\n",
        "    test_accuracy_values.append(accuracy)\n",
        "    test_loss_values.append(loss)\n",
        "    print(f\"Test Results - Epoch: {trainer.state.epoch}, Accuracy: {accuracy:.2f}, Loss: {loss:.4f}\")\n",
        "\n",
        "# Start the training process\n",
        "trainer.run(data_loaders['train'], 40)"
      ]
    },
    {
      "cell_type": "markdown",
      "id": "MOqvFoDAA9By",
      "metadata": {
        "id": "MOqvFoDAA9By"
      },
      "source": [
        "#DenseNet121 p=10, 40 epochs with early stopping\n",
        "Training Results - Epoch: 1, Accuracy: 0.87, Loss: 0.3569\n",
        "Test Results - Epoch: 1, Accuracy: 0.80, Loss: 0.5427\n",
        "Training Results - Epoch: 2, Accuracy: 0.93, Loss: 0.1812\n",
        "Test Results - Epoch: 2, Accuracy: 0.93, Loss: 0.1993\n",
        "Training Results - Epoch: 3, Accuracy: 0.90, Loss: 0.2343\n",
        "Test Results - Epoch: 3, Accuracy: 0.90, Loss: 0.2622\n",
        "Training Results - Epoch: 4, Accuracy: 0.91, Loss: 0.2145\n",
        "Test Results - Epoch: 4, Accuracy: 0.90, Loss: 0.2358\n",
        "Training Results - Epoch: 5, Accuracy: 0.92, Loss: 0.1850\n",
        "Test Results - Epoch: 5, Accuracy: 0.91, Loss: 0.2052\n",
        "Training Results - Epoch: 6, Accuracy: 0.94, Loss: 0.1592\n",
        "Test Results - Epoch: 6, Accuracy: 0.92, Loss: 0.2241\n",
        "Training Results - Epoch: 7, Accuracy: 0.93, Loss: 0.1647\n",
        "Test Results - Epoch: 7, Accuracy: 0.93, Loss: 0.1855\n",
        "Training Results - Epoch: 8, Accuracy: 0.93, Loss: 0.1666\n",
        "Test Results - Epoch: 8, Accuracy: 0.93, Loss: 0.1724\n",
        "Training Results - Epoch: 9, Accuracy: 0.91, Loss: 0.2326\n",
        "Test Results - Epoch: 9, Accuracy: 0.89, Loss: 0.3070\n",
        "Training Results - Epoch: 10, Accuracy: 0.94, Loss: 0.1489\n",
        "Test Results - Epoch: 10, Accuracy: 0.91, Loss: 0.2212\n",
        "Training Results - Epoch: 11, Accuracy: 0.93, Loss: 0.1699\n",
        "Test Results - Epoch: 11, Accuracy: 0.90, Loss: 0.2395\n",
        "Training Results - Epoch: 12, Accuracy: 0.94, Loss: 0.1506\n",
        "Test Results - Epoch: 12, Accuracy: 0.93, Loss: 0.1823\n",
        "Training Results - Epoch: 13, Accuracy: 0.94, Loss: 0.1438\n",
        "Test Results - Epoch: 13, Accuracy: 0.93, Loss: 0.1695\n",
        "Training Results - Epoch: 14, Accuracy: 0.93, Loss: 0.1714\n",
        "Test Results - Epoch: 14, Accuracy: 0.93, Loss: 0.1947\n",
        "Training Results - Epoch: 15, Accuracy: 0.96, Loss: 0.1158\n",
        "Test Results - Epoch: 15, Accuracy: 0.94, Loss: 0.1489\n",
        "Training Results - Epoch: 16, Accuracy: 0.95, Loss: 0.1377\n",
        "Test Results - Epoch: 16, Accuracy: 0.94, Loss: 0.1741\n",
        "Training Results - Epoch: 17, Accuracy: 0.94, Loss: 0.1507\n",
        "Test Results - Epoch: 17, Accuracy: 0.91, Loss: 0.2115\n",
        "Training Results - Epoch: 18, Accuracy: 0.95, Loss: 0.1171\n",
        "Test Results - Epoch: 18, Accuracy: 0.92, Loss: 0.1985\n",
        "Training Results - Epoch: 19, Accuracy: 0.94, Loss: 0.1475\n",
        "Test Results - Epoch: 19, Accuracy: 0.93, Loss: 0.1877\n",
        "Training Results - Epoch: 20, Accuracy: 0.96, Loss: 0.0983\n",
        "Test Results - Epoch: 20, Accuracy: 0.94, Loss: 0.1404\n",
        "Training Results - Epoch: 21, Accuracy: 0.95, Loss: 0.1211\n",
        "Test Results - Epoch: 21, Accuracy: 0.93, Loss: 0.1757\n",
        "Training Results - Epoch: 22, Accuracy: 0.95, Loss: 0.1149\n",
        "Test Results - Epoch: 22, Accuracy: 0.94, Loss: 0.1590\n",
        "Training Results - Epoch: 23, Accuracy: 0.94, Loss: 0.1498\n",
        "Test Results - Epoch: 23, Accuracy: 0.91, Loss: 0.2311\n",
        "Training Results - Epoch: 24, Accuracy: 0.94, Loss: 0.1470\n",
        "Test Results - Epoch: 24, Accuracy: 0.94, Loss: 0.1716\n",
        "Training Results - Epoch: 25, Accuracy: 0.96, Loss: 0.1118\n",
        "2024-04-27 18:13:21,785 ignite.handlers.early_stopping.EarlyStopping INFO: EarlyStopping: Stop training\n",
        "Test Results - Epoch: 25, Accuracy: 0.92, Loss: 0.1970\n",
        "State:\n",
        "\titeration: 3350\n",
        "\tepoch: 25\n",
        "\tepoch_length: 134\n",
        "\tmax_epochs: 40\n",
        "\toutput: 0.03878537937998772\n",
        "\tbatch: <class 'list'>\n",
        "\tmetrics: <class 'dict'>\n",
        "\tdataloader: <class 'torch.utils.data.dataloader.DataLoader'>\n",
        "\tseed: <class 'NoneType'>\n",
        "\ttimes: <class 'dict'>\n",
        "\n",
        "\n",
        "\n"
      ]
    },
    {
      "cell_type": "code",
      "execution_count": null,
      "id": "roHBFJZOpx_Y",
      "metadata": {
        "id": "roHBFJZOpx_Y"
      },
      "outputs": [],
      "source": [
        "# torch.save(model.state_dict(), 'asmadense_earlystopping.pth')"
      ]
    },
    {
      "cell_type": "code",
      "source": [
        "\n",
        "device = torch.device(\"cuda\" if torch.cuda.is_available() else \"cpu\")\n",
        "\n",
        "model_path = '/content/drive/MyDrive/asmadense_earlystopping.pth'\n",
        "\n",
        "model = models.densenet121(pretrained=False)\n",
        "num_features = model.classifier.in_features\n",
        "model.classifier = torch.nn.Linear(num_features, 2)\n",
        "\n",
        "model.load_state_dict(torch.load(model_path, map_location=device))\n",
        "\n",
        "model = model.to(device)\n"
      ],
      "metadata": {
        "id": "JB97m4GHfxaR"
      },
      "id": "JB97m4GHfxaR",
      "execution_count": null,
      "outputs": []
    },
    {
      "cell_type": "code",
      "execution_count": null,
      "id": "FBoa5pbItdhV",
      "metadata": {
        "id": "FBoa5pbItdhV"
      },
      "outputs": [],
      "source": [
        "\n",
        "model.eval()\n",
        "\n",
        "\n",
        "def plot_confusion_matrix(data_loader, model, device, label_names):\n",
        "    all_preds = []\n",
        "    all_labels = []\n",
        "    model.eval()\n",
        "    with torch.no_grad():\n",
        "        for inputs, labels in data_loader:\n",
        "            inputs = inputs.to(device)\n",
        "            labels = labels.to(device)\n",
        "            outputs = model(inputs)\n",
        "            _, preds = torch.max(outputs, 1)\n",
        "            all_preds.extend(preds.cpu().numpy())\n",
        "            all_labels.extend(labels.cpu().numpy())\n",
        "\n",
        "    cm = confusion_matrix(all_labels, all_preds)\n",
        "    accuracy = accuracy_score(all_labels, all_preds)\n",
        "    precision = precision_score(all_labels, all_preds, average='binary')\n",
        "    recall = recall_score(all_labels, all_preds, average='binary')\n",
        "    f1 = f1_score(all_labels, all_preds, average='binary')\n",
        "\n",
        "    plt.figure(figsize=(10,10))\n",
        "    sns.heatmap(cm, annot=True, fmt='d', cmap='Blues', xticklabels=label_names, yticklabels=label_names)\n",
        "    plt.xlabel('Predicted labels')\n",
        "    plt.ylabel('True labels')\n",
        "    plt.title('Confusion Matrix')\n",
        "    plt.show()\n",
        "    print('\\nPerformance measures:')\n",
        "    print(f\"Accuracy: {accuracy * 100:.2f}%\")\n",
        "    print(f\"Precision: {precision * 100:.2f}%\")\n",
        "    print(f\"Recall: {recall * 100:.2f}%\")\n",
        "    print(f\"F1 Score: {f1 * 100:.2f}%\")\n",
        "\n",
        "train_loss_values = []\n",
        "test_loss_values = []\n",
        "train_accuracy_values = []\n",
        "test_accuracy_values = []\n",
        "\n",
        "label_names = ['AiArtData', 'RealArt']\n",
        "plot_confusion_matrix(data_loaders['test'], model, device, label_names)\n"
      ]
    },
    {
      "cell_type": "code",
      "execution_count": null,
      "id": "1Y3uupEpuuGW",
      "metadata": {
        "id": "1Y3uupEpuuGW"
      },
      "outputs": [],
      "source": [
        "# Plotting training and testing process\n",
        "plt.figure(figsize=(12, 5))\n",
        "plt.subplot(1, 2, 1)\n",
        "plt.plot(range(1, len(train_loss_values) + 1), train_loss_values, label='Training Loss')\n",
        "plt.plot(range(1, len(test_loss_values) + 1), test_loss_values, label='Testing Loss')\n",
        "plt.xlabel('Epochs')\n",
        "plt.ylabel('Loss')\n",
        "plt.title('Training and Testing Loss')\n",
        "plt.legend()\n",
        "\n",
        "plt.subplot(1, 2, 2)\n",
        "plt.plot(range(1, len(train_accuracy_values) + 1), train_accuracy_values, label='Training Accuracy')\n",
        "plt.plot(range(1, len(test_accuracy_values) + 1), test_accuracy_values, label='Testing Accuracy')\n",
        "plt.xlabel('Epochs')\n",
        "plt.ylabel('Accuracy')\n",
        "plt.title('Training and Testing Accuracy')\n",
        "plt.legend()\n",
        "plt.show()\n",
        "\n",
        "\n"
      ]
    }
  ],
  "metadata": {
    "accelerator": "GPU",
    "colab": {
      "gpuType": "V100",
      "provenance": []
    },
    "kernelspec": {
      "display_name": "Python 3",
      "name": "python3"
    },
    "language_info": {
      "codemirror_mode": {
        "name": "ipython",
        "version": 3
      },
      "file_extension": ".py",
      "mimetype": "text/x-python",
      "name": "python",
      "nbconvert_exporter": "python",
      "pygments_lexer": "ipython3",
      "version": "3.11.5"
    }
  },
  "nbformat": 4,
  "nbformat_minor": 5
}